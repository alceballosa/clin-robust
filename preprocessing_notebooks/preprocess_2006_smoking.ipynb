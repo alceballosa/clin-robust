{
 "cells": [
  {
   "cell_type": "code",
   "execution_count": 1,
   "metadata": {},
   "outputs": [
    {
     "name": "stderr",
     "output_type": "stream",
     "text": [
      "/work/frink/sun.jiu/miniconda3/envs/nlp/lib/python3.10/site-packages/tqdm/auto.py:21: TqdmWarning: IProgress not found. Please update jupyter and ipywidgets. See https://ipywidgets.readthedocs.io/en/stable/user_install.html\n",
      "  from .autonotebook import tqdm as notebook_tqdm\n"
     ]
    }
   ],
   "source": [
    "from datasets import Dataset, DatasetDict\n",
    "import xml.etree.ElementTree as ET\n",
    "import os\n",
    "import re"
   ]
  },
  {
   "cell_type": "markdown",
   "metadata": {},
   "source": [
    "### Specify Src and Tar Dir\n",
    "\n",
    "Note: make sure the following files:\n",
    "- smokers_surrogate_train_all_version2.xml\n",
    "- smokers_surrogate_test_all_groundtruth_version2.xml\n",
    "\n",
    "are saved to the src dir"
   ]
  },
  {
   "cell_type": "code",
   "execution_count": 2,
   "metadata": {},
   "outputs": [],
   "source": [
    "src_path = \"../datasets/n2c2_raw/2006/smoking\"\n",
    "tar_path = \"../datasets/n2c2/smoking-classification-2006\""
   ]
  },
  {
   "cell_type": "markdown",
   "metadata": {},
   "source": [
    "### Run"
   ]
  },
  {
   "cell_type": "code",
   "execution_count": 3,
   "metadata": {},
   "outputs": [],
   "source": [
    "if not os.path.exists(tar_path):\n",
    "    os.makedirs(tar_path)\n",
    "    \n",
    "# Read in the data\n",
    "# test_file_path = os.path.join(src_path, \"smokers_surrogate_test_all_version2.xml\")\n",
    "train_file_path = os.path.join(src_path, \"smokers_surrogate_train_all_version2.xml\")\n",
    "ground_truth_file_path = os.path.join(src_path, \"smokers_surrogate_test_all_groundtruth_version2.xml\")\n",
    "\n",
    "for file in [train_file_path, ground_truth_file_path]:\n",
    "    assert os.path.exists(file), f\"{file} does not exist\""
   ]
  },
  {
   "cell_type": "code",
   "execution_count": 4,
   "metadata": {},
   "outputs": [],
   "source": [
    "test_set = []\n",
    "gt_tree = ET.parse(ground_truth_file_path)\n",
    "gt_root = gt_tree.getroot()\n",
    "\n",
    "for child in gt_root:\n",
    "    assert \"ID\" in child.attrib.keys()\n",
    "    item = {\n",
    "        \"id\": child.attrib[\"ID\"],\n",
    "    }\n",
    "    for subchild in child:\n",
    "        if subchild.tag == \"SMOKING\":\n",
    "            item[\"class\"] = subchild.attrib[\"STATUS\"]\n",
    "        if subchild.tag == \"TEXT\":\n",
    "            item[\"text\"] = subchild.text\n",
    "            \n",
    "    test_set.append(item)"
   ]
  },
  {
   "cell_type": "code",
   "execution_count": 5,
   "metadata": {},
   "outputs": [],
   "source": [
    "train_set = []\n",
    "train_tree = ET.parse(train_file_path)\n",
    "train_root = train_tree.getroot()\n",
    "\n",
    "for child in train_root:\n",
    "    assert \"ID\" in child.attrib.keys()\n",
    "    item = {\n",
    "        \"id\": child.attrib[\"ID\"],\n",
    "    }\n",
    "    for subchild in child:\n",
    "        if subchild.tag == \"SMOKING\":\n",
    "            item[\"class\"] = subchild.attrib[\"STATUS\"]\n",
    "        if subchild.tag == \"TEXT\":\n",
    "            item[\"text\"] = subchild.text\n",
    "    \n",
    "    train_set.append(item)"
   ]
  },
  {
   "cell_type": "code",
   "execution_count": 6,
   "metadata": {},
   "outputs": [
    {
     "name": "stderr",
     "output_type": "stream",
     "text": [
      "                                                                                            \r"
     ]
    }
   ],
   "source": [
    "train_set = Dataset.from_list(train_set)\n",
    "test_set = Dataset.from_list(test_set)\n",
    "\n",
    "dataset = DatasetDict({\"train\": train_set, \"test\": test_set})\n",
    "dataset.save_to_disk(tar_path)"
   ]
  }
 ],
 "metadata": {
  "kernelspec": {
   "display_name": "nlp",
   "language": "python",
   "name": "python3"
  },
  "language_info": {
   "codemirror_mode": {
    "name": "ipython",
    "version": 3
   },
   "file_extension": ".py",
   "mimetype": "text/x-python",
   "name": "python",
   "nbconvert_exporter": "python",
   "pygments_lexer": "ipython3",
   "version": "3.10.10"
  },
  "orig_nbformat": 4
 },
 "nbformat": 4,
 "nbformat_minor": 2
}
