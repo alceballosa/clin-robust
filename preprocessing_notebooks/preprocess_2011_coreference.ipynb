{
 "cells": [
  {
   "cell_type": "code",
   "execution_count": 1,
   "metadata": {},
   "outputs": [],
   "source": [
    "from datasets import Dataset, DatasetDict\n",
    "from tqdm import tqdm\n",
    "import os\n",
    "import re"
   ]
  },
  {
   "cell_type": "markdown",
   "metadata": {},
   "source": [
    "### Specify Src and Tar Dir\n",
    "\n",
    "Note: make sure the following files:\n",
    "- Beth_Train\n",
    "- i2b2_Test\n",
    "- Partners_Train\n",
    "- Tack_1C_to_be_released_10_02_2011\n",
    "\n",
    "are saved to the src dir"
   ]
  },
  {
   "cell_type": "code",
   "execution_count": 2,
   "metadata": {},
   "outputs": [],
   "source": [
    "src_path = \"../datasets/n2c2_raw/2011/coreference/\"\n",
    "tar_path = \"../datasets/n2c2/coreference-2011\""
   ]
  },
  {
   "cell_type": "markdown",
   "metadata": {},
   "source": [
    "### Run"
   ]
  },
  {
   "cell_type": "code",
   "execution_count": 3,
   "metadata": {},
   "outputs": [],
   "source": [
    "train_set_beth = []\n",
    "train_set_partners = []\n",
    "\n",
    "\n",
    "for source in [\"Beth_Train\", \"Partners_Train\"]:\n",
    "    txt_dir = os.path.join(src_path, source, \"docs\")\n",
    "    all_txt_files = [f for f in os.listdir(txt_dir) if f.endswith(\".txt\")]\n",
    "    for txt_file in all_txt_files:\n",
    "        text_id = int(re.search(r\"\\d+\", txt_file).group(0))\n",
    "        with open(os.path.join(txt_dir, txt_file), \"r\") as f:\n",
    "            text = f.read()\n",
    "        \n",
    "        if source == \"Beth_Train\":\n",
    "            train_set_beth.append({\"text\": text, \"text_id\": text_id})\n",
    "        else:\n",
    "            train_set_partners.append({\"text\": text, \"text_id\": text_id})\n",
    "    \n",
    "    for feature_type in [\"chains\", \"concepts\", \"pairs\"]:\n",
    "        dir_path = os.path.join(src_path, source, feature_type)\n",
    "        annotation_files = os.listdir(dir_path)\n",
    "        \n",
    "        if feature_type == \"concepts\":\n",
    "            for file in annotation_files:\n",
    "                infos = []\n",
    "                text_id = int(re.search(r\"\\d+\", file).group(0))\n",
    "                file_path = os.path.join(dir_path, file)\n",
    "                with open(file_path, \"r\") as f:\n",
    "                    annotations = f.readlines()\n",
    "                \n",
    "                for annotation in annotations:\n",
    "                    feature_dict = dict()\n",
    "                    features = annotation.split(\"||\")\n",
    "                    for feature in features:\n",
    "                        main_feature = re.findall(r\"[a-z]+\\=\\\"[^\\\"]*\\\"\", feature)[0]\n",
    "                        feature_location = feature.replace(main_feature, \"\").strip()\n",
    "                        feature_name = main_feature.split(\"=\")[0]\n",
    "                        feature_value = main_feature.split(\"=\")[1].replace(\"\\\"\", \"\")\n",
    "                        feature_location = feature_location.split(\" \")\n",
    "                        if len(feature_location) == 1:\n",
    "                            feature_dict[feature_name] = (feature_value, \"nm\", \"nm\")\n",
    "                        else:\n",
    "                            feature_dict[feature_name] = (feature_value, feature_location[0], feature_location[1]) \n",
    "                    infos.append(feature_dict)\n",
    "\n",
    "                if source == \"Beth_Train\":\n",
    "                    for item in train_set_beth:\n",
    "                        if item[\"text_id\"] == text_id:\n",
    "                            item[feature_type] = infos\n",
    "                \n",
    "                else:\n",
    "                    for item in train_set_partners:\n",
    "                        if item[\"text_id\"] == text_id:\n",
    "                            item[feature_type] = infos\n",
    "        else:\n",
    "            for file in annotation_files:\n",
    "                infos = []\n",
    "                text_id = int(re.search(r\"\\d+\", file).group(0))\n",
    "                file_path = os.path.join(dir_path, file)\n",
    "                with open(file_path, \"r\") as f:\n",
    "                    annotations = f.readlines()\n",
    "                \n",
    "                for annotation in annotations:\n",
    "                    feature_dict = dict()\n",
    "                    coreference = []\n",
    "                    features = annotation.split(\"||\")\n",
    "                    for feature in features:\n",
    "                        main_feature = re.findall(r\"[a-z]+\\=\\\"[^\\\"]*\\\"\", feature)[0]\n",
    "                        feature_location = feature.replace(main_feature, \"\").strip()\n",
    "                        feature_name = main_feature.split(\"=\")[0]\n",
    "                        feature_value = main_feature.split(\"=\")[1].replace(\"\\\"\", \"\")\n",
    "                        feature_location = feature_location.split(\" \")\n",
    "                        feature_tuple = (feature_value, feature_location[0], feature_location[1]) if len(feature_location) != 1 else (feature_value, \"nm\", \"nm\")\n",
    "                        if feature_name == \"c\":\n",
    "                            coreference.append(feature_tuple)\n",
    "                        else:\n",
    "                            feature_dict[feature_name] = feature_tuple\n",
    "                    feature_dict[\"c\"] = coreference\n",
    "                    infos.append(feature_dict)\n",
    "\n",
    "                if source == \"Beth_Train\":\n",
    "                    for item in train_set_beth:\n",
    "                        if item[\"text_id\"] == text_id:\n",
    "                            item[feature_type] = infos\n",
    "                    \n",
    "                else:\n",
    "                    for item in train_set_partners:\n",
    "                        if item[\"text_id\"] == text_id:\n",
    "                            item[feature_type] = infos\n",
    "        "
   ]
  },
  {
   "cell_type": "code",
   "execution_count": 4,
   "metadata": {},
   "outputs": [],
   "source": [
    "test_set_beth = []\n",
    "test_set_partners = []\n",
    "\n",
    "for source in [\"i2b2_Beth_Test\", \"i2b2_Partners_Test\"]:\n",
    "    txt_dir = os.path.join(src_path, \"i2b2_Test\", source, \"docs\")\n",
    "    all_txt_files = [f for f in os.listdir(txt_dir) if f.endswith(\".txt\")]\n",
    "    \n",
    "    for txt_file in all_txt_files:\n",
    "        text_id = int(re.search(r\"\\d+\", txt_file).group(0))\n",
    "        with open(os.path.join(txt_dir, txt_file), \"r\") as f:\n",
    "            text = f.read()\n",
    "        \n",
    "        if source == \"i2b2_Beth_Test\":\n",
    "            test_set_beth.append({\"text\": text, \"text_id\": text_id})\n",
    "        else:\n",
    "            test_set_partners.append({\"text\": text, \"text_id\": text_id})\n",
    "        \n",
    "    for feature_type in [\"concepts\"]:\n",
    "        dir_path = os.path.join(src_path, \"Tack_1C_to_be_released_10_02_2011\", source, feature_type)\n",
    "        annotation_files = os.listdir(dir_path)\n",
    "        \n",
    "        for file in annotation_files:\n",
    "            infos = []\n",
    "            text_id = int(re.search(r\"\\d+\", file).group(0))\n",
    "            file_path = os.path.join(dir_path, file)\n",
    "            with open(file_path, \"r\") as f:\n",
    "                annotations = f.readlines()\n",
    "            \n",
    "            for annotation in annotations:\n",
    "                feature_dict = dict()\n",
    "                features = annotation.split(\"||\")\n",
    "                for feature in features:\n",
    "                    main_feature = re.findall(r\"[a-z]+\\=\\\"[^\\\"]*\\\"\", feature)[0]\n",
    "                    feature_location = feature.replace(main_feature, \"\").strip()\n",
    "                    feature_name = main_feature.split(\"=\")[0]\n",
    "                    feature_value = main_feature.split(\"=\")[1].replace(\"\\\"\", \"\")\n",
    "                    feature_location = feature_location.split(\" \")\n",
    "                    if len(feature_location) == 1:\n",
    "                        feature_dict[feature_name] = (feature_value, \"nm\", \"nm\")\n",
    "                    else:\n",
    "                        feature_dict[feature_name] = (feature_value, feature_location[0], feature_location[1]) \n",
    "                infos.append(feature_dict)\n",
    "\n",
    "            if source == \"i2b2_Beth_Test\":\n",
    "                for item in test_set_beth:\n",
    "                    if item[\"text_id\"] == text_id:\n",
    "                        item[feature_type] = infos\n",
    "            \n",
    "            else:\n",
    "                for item in test_set_partners:\n",
    "                    if item[\"text_id\"] == text_id:\n",
    "                        item[feature_type] = infos\n",
    "\n",
    "    chain_dir_path = os.path.join(src_path, \"Tack_1C_to_be_released_10_02_2011\", source, \"chains\")\n",
    "    chain_annotation_files = os.listdir(chain_dir_path)\n",
    "    \n",
    "    for file in chain_annotation_files:\n",
    "        infos = []\n",
    "        text_id = int(re.search(r\"\\d+\", file).group(0))\n",
    "        file_path = os.path.join(chain_dir_path, file)\n",
    "        with open(file_path, \"r\") as f:\n",
    "            annotations = f.readlines()\n",
    "        \n",
    "        for annotation in annotations:\n",
    "            feature_dict = dict()\n",
    "            features = annotation.split(\"||\")\n",
    "            coreference = []\n",
    "            for feature in features:\n",
    "                main_feature = re.findall(r\"[a-z]+\\=\\\"[^\\\"]*\\\"\", feature)[0]\n",
    "                feature_location = feature.replace(main_feature, \"\").strip()\n",
    "                feature_name = main_feature.split(\"=\")[0]\n",
    "                feature_value = main_feature.split(\"=\")[1].replace(\"\\\"\", \"\")\n",
    "                feature_location = feature_location.split(\" \")\n",
    "                feature_tuple = (feature_value, feature_location[0], feature_location[1]) if len(feature_location) != 1 else (feature_value, \"nm\", \"nm\")\n",
    "                if feature_name == \"c\":\n",
    "                    coreference.append(feature_tuple)\n",
    "                else:\n",
    "                    feature_dict[feature_name] = feature_tuple\n",
    "            feature_dict[\"c\"] = coreference\n",
    "            infos.append(feature_dict)\n",
    "        \n",
    "        if source == \"i2b2_Beth_Test\":\n",
    "            for item in test_set_beth:\n",
    "                if item[\"text_id\"] == text_id:\n",
    "                    item[\"chains\"] = infos\n",
    "        else:\n",
    "            for item in test_set_partners:\n",
    "                if item[\"text_id\"] == text_id:\n",
    "                    item[\"chains\"] = infos"
   ]
  },
  {
   "cell_type": "code",
   "execution_count": 5,
   "metadata": {},
   "outputs": [
    {
     "data": {
      "application/vnd.jupyter.widget-view+json": {
       "model_id": "0c22412f47544d9a854e5f0c8675099c",
       "version_major": 2,
       "version_minor": 0
      },
      "text/plain": [
       "Saving the dataset (0/1 shards):   0%|          | 0/115 [00:00<?, ? examples/s]"
      ]
     },
     "metadata": {},
     "output_type": "display_data"
    },
    {
     "data": {
      "application/vnd.jupyter.widget-view+json": {
       "model_id": "d996451d0adb489db6a768f0f0f8b444",
       "version_major": 2,
       "version_minor": 0
      },
      "text/plain": [
       "Saving the dataset (0/1 shards):   0%|          | 0/136 [00:00<?, ? examples/s]"
      ]
     },
     "metadata": {},
     "output_type": "display_data"
    },
    {
     "data": {
      "application/vnd.jupyter.widget-view+json": {
       "model_id": "b775b8c2225843899ee384ddf2dfc83d",
       "version_major": 2,
       "version_minor": 0
      },
      "text/plain": [
       "Saving the dataset (0/1 shards):   0%|          | 0/79 [00:00<?, ? examples/s]"
      ]
     },
     "metadata": {},
     "output_type": "display_data"
    },
    {
     "data": {
      "application/vnd.jupyter.widget-view+json": {
       "model_id": "9d26454ad70948a697d3f9201195d414",
       "version_major": 2,
       "version_minor": 0
      },
      "text/plain": [
       "Saving the dataset (0/1 shards):   0%|          | 0/94 [00:00<?, ? examples/s]"
      ]
     },
     "metadata": {},
     "output_type": "display_data"
    }
   ],
   "source": [
    "train_set_beth = Dataset.from_list(train_set_beth)\n",
    "train_set_partners = Dataset.from_list(train_set_partners)\n",
    "test_set_beth = Dataset.from_list(test_set_beth)\n",
    "test_set_partners = Dataset.from_list(test_set_partners)\n",
    "\n",
    "dataset = DatasetDict({\"beth_train\": train_set_beth, \"partners_train\": train_set_partners, \"beth_test\": test_set_beth, \"partners_test\": test_set_partners})\n",
    "if not os.path.exists(tar_path):\n",
    "    os.makedirs(tar_path)\n",
    "dataset.save_to_disk(tar_path)"
   ]
  },
  {
   "cell_type": "code",
   "execution_count": null,
   "metadata": {},
   "outputs": [],
   "source": []
  }
 ],
 "metadata": {
  "kernelspec": {
   "display_name": "nlp",
   "language": "python",
   "name": "python3"
  },
  "language_info": {
   "codemirror_mode": {
    "name": "ipython",
    "version": 3
   },
   "file_extension": ".py",
   "mimetype": "text/x-python",
   "name": "python",
   "nbconvert_exporter": "python",
   "pygments_lexer": "ipython3",
   "version": "3.9.16"
  },
  "orig_nbformat": 4
 },
 "nbformat": 4,
 "nbformat_minor": 2
}
