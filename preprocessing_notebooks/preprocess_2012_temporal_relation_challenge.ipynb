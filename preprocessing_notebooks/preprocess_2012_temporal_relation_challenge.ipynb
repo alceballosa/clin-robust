{
 "cells": [
  {
   "cell_type": "code",
   "execution_count": 1,
   "metadata": {},
   "outputs": [],
   "source": [
    "from datasets import Dataset, DatasetDict\n",
    "import xml.etree.ElementTree as ET\n",
    "import os\n",
    "import re\n",
    "from utils import preprocess_xml_illegal_and"
   ]
  },
  {
   "cell_type": "markdown",
   "metadata": {},
   "source": [
    "### Specify Src and Tar Dir\n",
    "\n",
    "Note: make sure the following files:\n",
    "- 2012-07-15.original-annotation.release\n",
    "- ground_truth\n",
    "\n",
    "are saved to the src dir"
   ]
  },
  {
   "cell_type": "code",
   "execution_count": 2,
   "metadata": {},
   "outputs": [],
   "source": [
    "src_path = \"../datasets/n2c2_raw/2012/temporal_relation_challenge/\"\n",
    "tar_path = \"../datasets/n2c2/temporal-relation-2012\""
   ]
  },
  {
   "cell_type": "markdown",
   "metadata": {},
   "source": [
    "### Run"
   ]
  },
  {
   "cell_type": "code",
   "execution_count": 3,
   "metadata": {},
   "outputs": [],
   "source": [
    "train_set = []\n",
    "training_path = os.path.join(src_path, \"2012-07-15.original-annotation.release\")\n",
    "training_files = [f for f in os.listdir(training_path) if f.endswith(\".xml\")]\n",
    "\n",
    "for file in training_files:\n",
    "    text_id = file.split(\".\")[0]\n",
    "    try:\n",
    "        tree = ET.parse(os.path.join(training_path, file))\n",
    "    except ET.ParseError:\n",
    "        preprocess_xml_illegal_and(os.path.join(training_path, file))\n",
    "        tree = ET.parse(os.path.join(training_path, file))\n",
    "        \n",
    "    root = tree.getroot()\n",
    "    events, temporal, relations = [], [], []\n",
    "    \n",
    "    for child in root:\n",
    "        if child.tag == \"TEXT\":\n",
    "            text = child.text\n",
    "        else:\n",
    "            for subchild in child:\n",
    "                if subchild.tag == \"TLINK\":\n",
    "                    relations.append(subchild.attrib)\n",
    "                elif subchild.tag == \"EVENT\":\n",
    "                    events.append(subchild.attrib)\n",
    "                elif subchild.tag == \"TIMEX3\":\n",
    "                    temporal.append(subchild.attrib)\n",
    "                    \n",
    "    train_set.append({\n",
    "        \"id\": text_id,\n",
    "        \"text\": text,\n",
    "        \"events\": events,\n",
    "        \"temporal_expression\": temporal,\n",
    "        \"relations\": relations \n",
    "    })"
   ]
  },
  {
   "cell_type": "code",
   "execution_count": 4,
   "metadata": {},
   "outputs": [],
   "source": [
    "test_set = []\n",
    "test_path = os.path.join(src_path, \"ground_truth\", \"merged_xml\")\n",
    "test_files = [f for f in os.listdir(test_path) if f.endswith(\".xml\")]\n",
    "\n",
    "for file in test_files:\n",
    "    text_id = file.split(\".\")[0]\n",
    "    try:\n",
    "        tree = ET.parse(os.path.join(test_path, file))\n",
    "    except ET.ParseError:\n",
    "        preprocess_xml_illegal_and(os.path.join(test_path, file))\n",
    "        tree = ET.parse(os.path.join(test_path, file))\n",
    "        \n",
    "    root = tree.getroot()\n",
    "    events, temporal, relations = [], [], []\n",
    "    \n",
    "    for child in root:\n",
    "        if child.tag == \"TEXT\":\n",
    "            text = child.text\n",
    "        else:\n",
    "            for subchild in child:\n",
    "                if subchild.tag == \"TLINK\":\n",
    "                    relations.append(subchild.attrib)\n",
    "                elif subchild.tag == \"EVENT\":\n",
    "                    events.append(subchild.attrib)\n",
    "                elif subchild.tag == \"TIMEX3\":\n",
    "                    temporal.append(subchild.attrib)\n",
    "                    \n",
    "    test_set.append({\n",
    "        \"id\": text_id,\n",
    "        \"text\": text,\n",
    "        \"events\": events,\n",
    "        \"temporal_expression\": temporal,\n",
    "        \"relations\": relations \n",
    "    })"
   ]
  },
  {
   "cell_type": "code",
   "execution_count": 5,
   "metadata": {},
   "outputs": [
    {
     "data": {
      "application/vnd.jupyter.widget-view+json": {
       "model_id": "3e3caf7365da42ff9facb46407226602",
       "version_major": 2,
       "version_minor": 0
      },
      "text/plain": [
       "Saving the dataset (0/1 shards):   0%|          | 0/190 [00:00<?, ? examples/s]"
      ]
     },
     "metadata": {},
     "output_type": "display_data"
    },
    {
     "data": {
      "application/vnd.jupyter.widget-view+json": {
       "model_id": "39275c920a2846df8cb0052ebf56ba8b",
       "version_major": 2,
       "version_minor": 0
      },
      "text/plain": [
       "Saving the dataset (0/1 shards):   0%|          | 0/120 [00:00<?, ? examples/s]"
      ]
     },
     "metadata": {},
     "output_type": "display_data"
    }
   ],
   "source": [
    "train_set = Dataset.from_list(train_set)\n",
    "test_set = Dataset.from_list(test_set)\n",
    "\n",
    "dataset = DatasetDict({\"train\": train_set, \"test\": test_set})\n",
    "dataset.save_to_disk(tar_path)"
   ]
  }
 ],
 "metadata": {
  "kernelspec": {
   "display_name": "nlp",
   "language": "python",
   "name": "python3"
  },
  "language_info": {
   "codemirror_mode": {
    "name": "ipython",
    "version": 3
   },
   "file_extension": ".py",
   "mimetype": "text/x-python",
   "name": "python",
   "nbconvert_exporter": "python",
   "pygments_lexer": "ipython3",
   "version": "3.9.16"
  },
  "orig_nbformat": 4
 },
 "nbformat": 4,
 "nbformat_minor": 2
}
