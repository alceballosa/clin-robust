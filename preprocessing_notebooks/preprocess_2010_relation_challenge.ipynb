{
 "cells": [
  {
   "cell_type": "code",
   "execution_count": 1,
   "metadata": {},
   "outputs": [
    {
     "name": "stderr",
     "output_type": "stream",
     "text": [
      "/work/frink/sun.jiu/miniconda3/envs/nlp/lib/python3.10/site-packages/tqdm/auto.py:21: TqdmWarning: IProgress not found. Please update jupyter and ipywidgets. See https://ipywidgets.readthedocs.io/en/stable/user_install.html\n",
      "  from .autonotebook import tqdm as notebook_tqdm\n"
     ]
    }
   ],
   "source": [
    "from datasets import Dataset, DatasetDict\n",
    "from tqdm import tqdm\n",
    "import os\n",
    "import re"
   ]
  },
  {
   "cell_type": "code",
   "execution_count": null,
   "metadata": {},
   "outputs": [],
   "source": []
  },
  {
   "cell_type": "markdown",
   "metadata": {},
   "source": [
    "### Specify Src and Tar Dir\n",
    "\n",
    "Note: make sure the following files:\n",
    "- reference_standard_relation_training_data\n",
    "- concept_assertion_relation_training_data\n",
    "- test_data\n",
    "\n",
    "are saved to the src dir"
   ]
  },
  {
   "cell_type": "code",
   "execution_count": 2,
   "metadata": {},
   "outputs": [],
   "source": [
    "src_path = \"../datasets/n2c2_raw/2010/relation_challenge/\"\n",
    "tar_path = \"../datasets/n2c2/relation-challenge-2010\""
   ]
  },
  {
   "cell_type": "markdown",
   "metadata": {},
   "source": [
    "### Run"
   ]
  },
  {
   "cell_type": "code",
   "execution_count": 3,
   "metadata": {},
   "outputs": [],
   "source": [
    "test_files = os.listdir(os.path.join(src_path, \"test_data\"))\n",
    "\n",
    "test_set = []\n",
    "\n",
    "for file in test_files:\n",
    "    text_id = int(file.split(\".\")[0])\n",
    "    file_path = os.path.join(src_path, \"test_data\", file)\n",
    "    with open(file_path, \"r\") as f:\n",
    "        text = f.read()\n",
    "    test_set.append({\"text\": text, \"text_id\": text_id})\n",
    "\n",
    "for feature_type in [\"ast\", \"concepts\", \"rel\"]:\n",
    "    dir_path = os.path.join(src_path, \"reference_standard_for_test_data\", feature_type)\n",
    "    annotation_files = os.listdir(dir_path)\n",
    "    \n",
    "    for file in annotation_files:\n",
    "        infos = []\n",
    "        text_id = int(file.split(\".\")[0])\n",
    "        file_path = os.path.join(dir_path, file)\n",
    "        with open(file_path, \"r\") as f:\n",
    "            annotations = f.readlines()\n",
    "        \n",
    "        for annotation in annotations:\n",
    "            feature_dict = dict()\n",
    "            features = annotation.split(\"||\")\n",
    "            for feature in features:\n",
    "                main_feature = re.findall(r\"[a-z]+\\=\\\"[^\\\"]*\\\"\", feature)[0]\n",
    "                feature_location = feature.replace(main_feature, \"\").strip()\n",
    "                feature_name = main_feature.split(\"=\")[0]\n",
    "                feature_value = main_feature.split(\"=\")[1].replace(\"\\\"\", \"\")\n",
    "                feature_location = feature_location.split(\" \")\n",
    "                if len(feature_location) == 1:\n",
    "                    feature_dict[feature_name] = (feature_value, \"nm\", \"nm\")\n",
    "                else:\n",
    "                    feature_dict[feature_name] = (feature_value, feature_location[0], feature_location[1]) \n",
    "            infos.append(feature_dict) \n",
    "        \n",
    "        for item in test_set:\n",
    "            if item[\"text_id\"] == text_id:\n",
    "                item[feature_type] = infos"
   ]
  },
  {
   "cell_type": "code",
   "execution_count": 4,
   "metadata": {},
   "outputs": [],
   "source": [
    "train_files = os.listdir(os.path.join(src_path, \"concept_assertion_relation_training_data\"))\n",
    "\n",
    "train_set_beth = []\n",
    "train_set_partners = []\n",
    "\n",
    "for source in [\"beth\", \"partners\"]:\n",
    "    \n",
    "    train_txts_files = [f for f in os.listdir(os.path.join(src_path, \"concept_assertion_relation_training_data\", source, \"txt\")) if f.endswith(\".txt\")]\n",
    "    \n",
    "    for file in train_txts_files:\n",
    "        text_id = int(re.search(r\"\\d+\", file).group(0))\n",
    "        with open(os.path.join(src_path, \"concept_assertion_relation_training_data\", source, \"txt\", file), \"r\") as f:\n",
    "            text = f.read()\n",
    "        \n",
    "        if source == \"beth\":\n",
    "            train_set_beth.append({\"text\": text, \"text_id\": text_id})\n",
    "        else:\n",
    "            train_set_partners.append({\"text\": text, \"text_id\": text_id})\n",
    "    \n",
    "    for feature_type in [\"ast\", \"concept\", \"rel\"]:\n",
    "        dir = os.path.join(src_path, \"concept_assertion_relation_training_data\", source, feature_type)\n",
    "        annotation_files = os.listdir(dir)\n",
    "        \n",
    "        for file in annotation_files:\n",
    "            infos = []\n",
    "            text_id = int(re.search(r\"\\d+\", file).group(0))\n",
    "            file_path = os.path.join(dir, file)\n",
    "            with open(file_path, \"r\") as f:\n",
    "                annotations = f.readlines()\n",
    "            \n",
    "            for annotation in annotations:\n",
    "                feature_dict = dict()\n",
    "                features = annotation.split(\"||\")\n",
    "                for feature in features:\n",
    "                    main_feature = re.findall(r\"[a-z]+\\=\\\"[^\\\"]*\\\"\", feature)[0]\n",
    "                    feature_location = feature.replace(main_feature, \"\").strip()\n",
    "                    feature_name = main_feature.split(\"=\")[0]\n",
    "                    feature_value = main_feature.split(\"=\")[1].replace(\"\\\"\", \"\")\n",
    "                    feature_location = feature_location.split(\" \")\n",
    "                    if len(feature_location) == 1:\n",
    "                        feature_dict[feature_name] = (feature_value, \"nm\", \"nm\")\n",
    "                    else:\n",
    "                        feature_dict[feature_name] = (feature_value, feature_location[0], feature_location[1]) \n",
    "                infos.append(feature_dict) \n",
    "            \n",
    "            if source == \"beth\":\n",
    "                for item in train_set_beth:\n",
    "                    if item[\"text_id\"] == text_id:\n",
    "                        item[feature_type] = infos\n",
    "            else:\n",
    "                for item in train_set_partners:\n",
    "                    if item[\"text_id\"] == text_id:\n",
    "                        item[feature_type] = infos"
   ]
  },
  {
   "cell_type": "code",
   "execution_count": 11,
   "metadata": {},
   "outputs": [
    {
     "name": "stderr",
     "output_type": "stream",
     "text": [
      "                                                                                           \r"
     ]
    }
   ],
   "source": [
    "train_set_beth = Dataset.from_list(train_set_beth)\n",
    "train_set_partners = Dataset.from_list(train_set_partners)\n",
    "test_set = Dataset.from_list(test_set)\n",
    "\n",
    "dataset = DatasetDict({\"beth_train\": train_set_beth, \"partners_train\": train_set_partners, \"test\": test_set})\n",
    "if not os.path.exists(tar_path):\n",
    "    os.makedirs(tar_path)\n",
    "dataset.save_to_disk(tar_path)"
   ]
  },
  {
   "cell_type": "code",
   "execution_count": null,
   "metadata": {},
   "outputs": [],
   "source": []
  }
 ],
 "metadata": {
  "kernelspec": {
   "display_name": "nlp",
   "language": "python",
   "name": "python3"
  },
  "language_info": {
   "codemirror_mode": {
    "name": "ipython",
    "version": 3
   },
   "file_extension": ".py",
   "mimetype": "text/x-python",
   "name": "python",
   "nbconvert_exporter": "python",
   "pygments_lexer": "ipython3",
   "version": "3.10.10"
  },
  "orig_nbformat": 4
 },
 "nbformat": 4,
 "nbformat_minor": 2
}
