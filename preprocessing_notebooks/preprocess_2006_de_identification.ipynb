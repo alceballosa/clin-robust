{
 "cells": [
  {
   "cell_type": "code",
   "execution_count": null,
   "metadata": {},
   "outputs": [],
   "source": [
    "from datasets import Dataset, DatasetDict\n",
    "import xml.etree.ElementTree as ET\n",
    "import os\n",
    "import re"
   ]
  },
  {
   "cell_type": "markdown",
   "metadata": {},
   "source": [
    "### Specify Src and Tar Dir\n",
    "\n",
    "Note: make sure the following files:\n",
    "- deid_surrogate_test_all_version2.xml\n",
    "- deid_surrogate_train_all_version2.xml\n",
    "- deid_surrogate_test_all_groundtruth_version2.xml\n",
    "\n",
    "are in the src dir"
   ]
  },
  {
   "cell_type": "code",
   "execution_count": 2,
   "metadata": {},
   "outputs": [],
   "source": [
    "src_path = \"../datasets/n2c2_raw/2006/de-identification\"\n",
    "tar_path = \"../datasets/n2c2/de-identification-2006\""
   ]
  },
  {
   "cell_type": "markdown",
   "metadata": {},
   "source": [
    "### Run"
   ]
  },
  {
   "cell_type": "code",
   "execution_count": 3,
   "metadata": {},
   "outputs": [],
   "source": [
    "if not os.path.exists(tar_path):\n",
    "    os.makedirs(tar_path)\n",
    "    \n",
    "# Read in the data\n",
    "test_file_path = os.path.join(src_path, \"deid_surrogate_test_all_version2.xml\")\n",
    "train_file_path = os.path.join(src_path, \"deid_surrogate_train_all_version2.xml\")\n",
    "ground_truth_file_path = os.path.join(src_path, \"deid_surrogate_test_all_groundtruth_version2.xml\")\n",
    "\n",
    "for file in [test_file_path, train_file_path, ground_truth_file_path]:\n",
    "    assert os.path.exists(file), f\"{file} does not exist\""
   ]
  },
  {
   "cell_type": "code",
   "execution_count": 4,
   "metadata": {},
   "outputs": [],
   "source": [
    "test_set = []\n",
    "test_tree = ET.parse(test_file_path)\n",
    "test_root = test_tree.getroot()\n",
    "\n",
    "for child in test_root:\n",
    "    assert \"ID\" in child.attrib.keys()\n",
    "    for subchild in child:\n",
    "        test_set.append({\"id\": child.attrib[\"ID\"], \"text\": subchild.text, \"targets\": []})"
   ]
  },
  {
   "cell_type": "code",
   "execution_count": 5,
   "metadata": {},
   "outputs": [],
   "source": [
    "gt_tree = ET.parse(ground_truth_file_path)\n",
    "gt_root = gt_tree.getroot()\n",
    "\n",
    "for child in gt_root:\n",
    "    text_id = child.attrib[\"ID\"]\n",
    "    targets = []\n",
    "    for text in child:\n",
    "        for phi in text.findall(\"PHI\"):\n",
    "            phi_type = phi.attrib[\"TYPE\"]\n",
    "            phi_text = phi.text\n",
    "            targets.append((phi_type, phi_text))\n",
    "    \n",
    "    for data in test_set:\n",
    "        if data[\"id\"] == text_id:\n",
    "            data[\"targets\"] = targets\n",
    "            break"
   ]
  },
  {
   "cell_type": "code",
   "execution_count": 6,
   "metadata": {},
   "outputs": [],
   "source": [
    "train_set = []\n",
    "train_tree = ET.parse(train_file_path)\n",
    "train_root = train_tree.getroot()\n",
    "\n",
    "for child in train_root:\n",
    "    assert \"ID\" in child.attrib.keys()\n",
    "    text_id = child.attrib[\"ID\"]\n",
    "    targets = []\n",
    "    for text in child:\n",
    "        text_text = ET.tostring(text)\n",
    "        text_text = re.sub(r\"\\<PHI TYPE\\=\\\"[A-Z]*\\\"\\>\", \"\", text_text.decode(\"utf-8\"))\n",
    "        text_text = re.sub(r\"</PHI>\", \"\", text_text)\n",
    "        text_text = text_text.replace(\"<TEXT>\", \"\").replace(\"</TEXT>\", \"\").strip()\n",
    "        \n",
    "        for phi in text.findall(\"PHI\"):\n",
    "            phi_type = phi.attrib[\"TYPE\"]\n",
    "            phi_text = phi.text\n",
    "            targets.append((phi_type, phi_text))\n",
    "        train_set.append({\"id\": text_id, \"text\": text_text, \"targets\": targets})\n",
    "        "
   ]
  },
  {
   "cell_type": "code",
   "execution_count": 8,
   "metadata": {},
   "outputs": [
    {
     "name": "stderr",
     "output_type": "stream",
     "text": [
      "                                                                                            \r"
     ]
    }
   ],
   "source": [
    "train_set = Dataset.from_list(train_set)\n",
    "test_set = Dataset.from_list(test_set)\n",
    "\n",
    "dataset = DatasetDict({\"train\": train_set, \"test\": test_set})\n",
    "dataset.save_to_disk(tar_path)"
   ]
  }
 ],
 "metadata": {
  "kernelspec": {
   "display_name": "nlp",
   "language": "python",
   "name": "python3"
  },
  "language_info": {
   "codemirror_mode": {
    "name": "ipython",
    "version": 3
   },
   "file_extension": ".py",
   "mimetype": "text/x-python",
   "name": "python",
   "nbconvert_exporter": "python",
   "pygments_lexer": "ipython3",
   "version": "3.10.10"
  },
  "orig_nbformat": 4
 },
 "nbformat": 4,
 "nbformat_minor": 2
}
