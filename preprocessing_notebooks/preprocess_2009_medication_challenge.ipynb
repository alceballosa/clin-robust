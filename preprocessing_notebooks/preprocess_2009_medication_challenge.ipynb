{
 "cells": [
  {
   "cell_type": "code",
   "execution_count": 1,
   "metadata": {},
   "outputs": [],
   "source": [
    "from datasets import Dataset, DatasetDict\n",
    "from tqdm import tqdm\n",
    "import os\n",
    "import re"
   ]
  },
  {
   "cell_type": "markdown",
   "metadata": {},
   "source": [
    "### Specify Src and Tar Dir\n",
    "\n",
    "Note: make sure the following files:\n",
    "- annotations_ground_truth\n",
    "- train.test.released.8.17.09\n",
    "- training.sets.released\n",
    "\n",
    "are saved to the src dir"
   ]
  },
  {
   "cell_type": "code",
   "execution_count": 2,
   "metadata": {},
   "outputs": [],
   "source": [
    "src_path = \"../datasets/n2c2_raw/2009/medication_challenge/\"\n",
    "tar_path = \"../datasets/n2c2/medical-challenge-2009\""
   ]
  },
  {
   "cell_type": "markdown",
   "metadata": {},
   "source": [
    "### Run"
   ]
  },
  {
   "cell_type": "code",
   "execution_count": 3,
   "metadata": {},
   "outputs": [
    {
     "ename": "PermissionError",
     "evalue": "[Errno 13] Permission denied: '/work/frink/private_datasets/n2c2_raw/2009/medication_challenge/train.test.released.8.17.09/106650'",
     "output_type": "error",
     "traceback": [
      "\u001b[0;31m---------------------------------------------------------------------------\u001b[0m",
      "\u001b[0;31mPermissionError\u001b[0m                           Traceback (most recent call last)",
      "Cell \u001b[0;32mIn[3], line 17\u001b[0m\n\u001b[1;32m     15\u001b[0m text_id \u001b[38;5;241m=\u001b[39m \u001b[38;5;28mint\u001b[39m(file)\n\u001b[1;32m     16\u001b[0m file_path \u001b[38;5;241m=\u001b[39m os\u001b[38;5;241m.\u001b[39mpath\u001b[38;5;241m.\u001b[39mjoin(src_path, \u001b[38;5;124m\"\u001b[39m\u001b[38;5;124mtrain.test.released.8.17.09\u001b[39m\u001b[38;5;124m\"\u001b[39m, file)\n\u001b[0;32m---> 17\u001b[0m \u001b[38;5;28;01mwith\u001b[39;00m \u001b[38;5;28;43mopen\u001b[39;49m\u001b[43m(\u001b[49m\u001b[43mfile_path\u001b[49m\u001b[43m,\u001b[49m\u001b[43m \u001b[49m\u001b[38;5;124;43m\"\u001b[39;49m\u001b[38;5;124;43mr\u001b[39;49m\u001b[38;5;124;43m\"\u001b[39;49m\u001b[43m)\u001b[49m \u001b[38;5;28;01mas\u001b[39;00m f:\n\u001b[1;32m     18\u001b[0m     text \u001b[38;5;241m=\u001b[39m f\u001b[38;5;241m.\u001b[39mread()\n\u001b[1;32m     19\u001b[0m all_dataset\u001b[38;5;241m.\u001b[39mappend({\u001b[38;5;124m\"\u001b[39m\u001b[38;5;124mtext\u001b[39m\u001b[38;5;124m\"\u001b[39m: text, \u001b[38;5;124m\"\u001b[39m\u001b[38;5;124mtext_id\u001b[39m\u001b[38;5;124m\"\u001b[39m: text_id})\n",
      "File \u001b[0;32m~/.conda/envs/robust/lib/python3.11/site-packages/IPython/core/interactiveshell.py:324\u001b[0m, in \u001b[0;36m_modified_open\u001b[0;34m(file, *args, **kwargs)\u001b[0m\n\u001b[1;32m    317\u001b[0m \u001b[38;5;28;01mif\u001b[39;00m file \u001b[38;5;129;01min\u001b[39;00m {\u001b[38;5;241m0\u001b[39m, \u001b[38;5;241m1\u001b[39m, \u001b[38;5;241m2\u001b[39m}:\n\u001b[1;32m    318\u001b[0m     \u001b[38;5;28;01mraise\u001b[39;00m \u001b[38;5;167;01mValueError\u001b[39;00m(\n\u001b[1;32m    319\u001b[0m         \u001b[38;5;124mf\u001b[39m\u001b[38;5;124m\"\u001b[39m\u001b[38;5;124mIPython won\u001b[39m\u001b[38;5;124m'\u001b[39m\u001b[38;5;124mt let you open fd=\u001b[39m\u001b[38;5;132;01m{\u001b[39;00mfile\u001b[38;5;132;01m}\u001b[39;00m\u001b[38;5;124m by default \u001b[39m\u001b[38;5;124m\"\u001b[39m\n\u001b[1;32m    320\u001b[0m         \u001b[38;5;124m\"\u001b[39m\u001b[38;5;124mas it is likely to crash IPython. If you know what you are doing, \u001b[39m\u001b[38;5;124m\"\u001b[39m\n\u001b[1;32m    321\u001b[0m         \u001b[38;5;124m\"\u001b[39m\u001b[38;5;124myou can use builtins\u001b[39m\u001b[38;5;124m'\u001b[39m\u001b[38;5;124m open.\u001b[39m\u001b[38;5;124m\"\u001b[39m\n\u001b[1;32m    322\u001b[0m     )\n\u001b[0;32m--> 324\u001b[0m \u001b[38;5;28;01mreturn\u001b[39;00m \u001b[43mio_open\u001b[49m\u001b[43m(\u001b[49m\u001b[43mfile\u001b[49m\u001b[43m,\u001b[49m\u001b[43m \u001b[49m\u001b[38;5;241;43m*\u001b[39;49m\u001b[43margs\u001b[49m\u001b[43m,\u001b[49m\u001b[43m \u001b[49m\u001b[38;5;241;43m*\u001b[39;49m\u001b[38;5;241;43m*\u001b[39;49m\u001b[43mkwargs\u001b[49m\u001b[43m)\u001b[49m\n",
      "\u001b[0;31mPermissionError\u001b[0m: [Errno 13] Permission denied: '/work/frink/private_datasets/n2c2_raw/2009/medication_challenge/train.test.released.8.17.09/106650'"
     ]
    }
   ],
   "source": [
    "abbreve2feature = {\n",
    "    \"m\": \"medications\",\n",
    "    \"do\": \"dosages\",\n",
    "    \"mo\": \"modes\",\n",
    "    \"f\": \"frequencies\",\n",
    "    \"du\": \"durations\",\n",
    "    \"r\": \"reasons\",\n",
    "    \"ln\": \"narrative\"\n",
    "}\n",
    "\n",
    "text_files = os.listdir(os.path.join(src_path, \"train.test.released.8.17.09\"))\n",
    "all_dataset = []\n",
    "\n",
    "for file in text_files:\n",
    "    text_id = int(file)\n",
    "    file_path = os.path.join(src_path, \"train.test.released.8.17.09\", file)\n",
    "    with open(file_path, \"r\") as f:\n",
    "        text = f.read()\n",
    "    all_dataset.append({\"text\": text, \"text_id\": text_id})"
   ]
  },
  {
   "cell_type": "code",
   "execution_count": 4,
   "metadata": {},
   "outputs": [
    {
     "name": "stderr",
     "output_type": "stream",
     "text": [
      "100%|██████████| 252/252 [00:00<00:00, 381.26it/s]\n"
     ]
    }
   ],
   "source": [
    "annotation_files = [f for f in os.listdir(os.path.join(src_path, \"annotations_ground_truth\", \"converted.noduplicates.sorted\")) if not f.endswith(\".py\")]\n",
    "\n",
    "for file in tqdm(annotation_files):\n",
    "    text_id = int(file.split(\".\")[0])\n",
    "    \n",
    "    file_path = os.path.join(src_path, \"annotations_ground_truth\", \"converted.noduplicates.sorted\", file)\n",
    "    with open(file_path, \"r\") as f:\n",
    "        annotations = f.readlines()\n",
    "    \n",
    "    infos = []\n",
    "    for annotation in annotations:\n",
    "        feature_dict = dict()\n",
    "        \n",
    "        features = annotation.split(\"||\")\n",
    "        for feature in features:\n",
    "            main_feature = re.findall(r\"[a-z]+\\=\\\"[^\\\"]*\\\"\", feature)[0]\n",
    "            feature_location = feature.replace(main_feature, \"\").strip()\n",
    "            feature_name = abbreve2feature[main_feature.split(\"=\")[0]]\n",
    "            feature_value = main_feature.split(\"=\")[1].replace(\"\\\"\", \"\")\n",
    "            feature_location = feature_location.split(\" \")\n",
    "            if len(feature_location) == 1:\n",
    "                feature_dict[feature_name] = (feature_value, \"nm\", \"nm\")\n",
    "            else:\n",
    "                feature_dict[feature_name] = (feature_value, feature_location[0], feature_location[1])            \n",
    "        infos.append(feature_dict)\n",
    "    \n",
    "    for item in all_dataset:\n",
    "        if item[\"text_id\"] == text_id:\n",
    "            item[\"targets\"] = infos\n",
    "            break"
   ]
  },
  {
   "cell_type": "code",
   "execution_count": 5,
   "metadata": {},
   "outputs": [
    {
     "name": "stderr",
     "output_type": "stream",
     "text": [
      "100%|██████████| 10/10 [00:00<00:00, 535.64it/s]\n"
     ]
    }
   ],
   "source": [
    "training_annotation_files = [f for f in os.listdir(os.path.join(src_path, \"training.ground.truth\")) if not f.endswith(\".txt\")]\n",
    "for file in tqdm(training_annotation_files):\n",
    "    text_id = int(file.split(\"_\")[0])\n",
    "    \n",
    "    file_path = os.path.join(src_path, \"training.ground.truth\", file)\n",
    "    with open(file_path, \"r\") as f:\n",
    "        annotations = f.readlines()\n",
    "    \n",
    "    infos = []\n",
    "    for annotation in annotations:\n",
    "        feature_dict = dict()\n",
    "        \n",
    "        features = annotation.split(\"||\")\n",
    "        for feature in features:\n",
    "            main_feature = re.findall(r\"[a-z]+\\=\\\"[^\\\"]*\\\"\", feature)[0]\n",
    "            feature_location = feature.replace(main_feature, \"\").strip()\n",
    "            try:\n",
    "                feature_name = abbreve2feature[main_feature.split(\"=\")[0]]\n",
    "            except KeyError:\n",
    "                continue\n",
    "            feature_value = main_feature.split(\"=\")[1].replace(\"\\\"\", \"\")\n",
    "            feature_location = feature_location.split(\" \")\n",
    "            if len(feature_location) == 1:\n",
    "                feature_dict[feature_name] = (feature_value, \"nm\", \"nm\")\n",
    "            else:\n",
    "                feature_dict[feature_name] = (feature_value, feature_location[0], feature_location[1])            \n",
    "        infos.append(feature_dict)\n",
    "    \n",
    "    for item in all_dataset:\n",
    "        if item[\"text_id\"] == text_id:\n",
    "            assert \"targets\" not in item.keys()\n",
    "            item[\"targets\"] = infos\n",
    "            break\n",
    "    "
   ]
  },
  {
   "cell_type": "code",
   "execution_count": 6,
   "metadata": {},
   "outputs": [
    {
     "name": "stderr",
     "output_type": "stream",
     "text": [
      "                                                                                            \r"
     ]
    }
   ],
   "source": [
    "annotated_dataset = [item for item in all_dataset if \"targets\" in item]\n",
    "unannotated_dataset = [item for item in all_dataset if \"targets\" not in item]\n",
    "\n",
    "trainset_file_paths = os.listdir(os.path.join(src_path, \"training.sets.released\"))\n",
    "trainset_idxs = []\n",
    "for dir in trainset_file_paths:\n",
    "    dir_path = os.path.join(src_path, \"training.sets.released\", dir)\n",
    "    trainset_idxs.extend([int(f) for f in os.listdir(dir_path)])\n",
    "\n",
    "trainset = [item for item in annotated_dataset if item[\"text_id\"] in trainset_idxs]\n",
    "testset = [item for item in annotated_dataset if item[\"text_id\"] not in trainset_idxs]\n",
    "\n",
    "trainset = Dataset.from_list(trainset)\n",
    "testset = Dataset.from_list(testset)\n",
    "unannotated_dataset = Dataset.from_list(unannotated_dataset)\n",
    "\n",
    "dataset = DatasetDict({\"train\": trainset, \"test\": testset, \"unannotated\": unannotated_dataset})\n",
    "if not os.path.exists(tar_path):\n",
    "    os.makedirs(tar_path)\n",
    "dataset.save_to_disk(tar_path)\n"
   ]
  }
 ],
 "metadata": {
  "kernelspec": {
   "display_name": "nlp",
   "language": "python",
   "name": "python3"
  },
  "language_info": {
   "codemirror_mode": {
    "name": "ipython",
    "version": 3
   },
   "file_extension": ".py",
   "mimetype": "text/x-python",
   "name": "python",
   "nbconvert_exporter": "python",
   "pygments_lexer": "ipython3",
   "version": "3.11.8"
  },
  "orig_nbformat": 4
 },
 "nbformat": 4,
 "nbformat_minor": 2
}
