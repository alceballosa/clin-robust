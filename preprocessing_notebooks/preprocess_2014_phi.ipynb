{
 "cells": [
  {
   "cell_type": "code",
   "execution_count": 40,
   "metadata": {},
   "outputs": [],
   "source": [
    "from datasets import Dataset, DatasetDict\n",
    "import xml.etree.ElementTree as ET\n",
    "import os\n",
    "import re\n",
    "from utils import preprocess_xml_illegal_chars\n",
    "from pathlib import Path\n",
    "from datasets import load_dataset, load_from_disk\n",
    "from collections import OrderedDict\n",
    "import pandas as pd"
   ]
  },
  {
   "cell_type": "markdown",
   "metadata": {},
   "source": []
  },
  {
   "cell_type": "code",
   "execution_count": 41,
   "metadata": {},
   "outputs": [],
   "source": [
    "src_path = Path(\"../datasets/n2c2_raw/2014/PHI\")\n",
    "tar_path = Path(\"../datasets/n2c2/phi-de-identification-2014\")"
   ]
  },
  {
   "cell_type": "code",
   "execution_count": 42,
   "metadata": {},
   "outputs": [],
   "source": [
    "def get_train_record_from_xml(path: Path):\n",
    "    tree = ET.parse(path)\n",
    "    root = tree.getroot()\n",
    "    id_record = path.stem\n",
    "    text = root.find(\"TEXT\").text\n",
    "    tag_elems = root.find(\"TAGS\")\n",
    "    parsed_tags = []\n",
    "    for tag_elem in tag_elems:\n",
    "        tag_id = tag_elem.attrib[\"id\"]\n",
    "        tag_type = tag_elem.attrib[\"TYPE\"]\n",
    "        tag_start = tag_elem.attrib[\"start\"]\n",
    "        tag_end = tag_elem.attrib[\"end\"]\n",
    "        tag_text = tag_elem.attrib[\"text\"]\n",
    "        tag_comment = tag_elem.attrib[\"comment\"]\n",
    "\n",
    "        tag_dict = OrderedDict()\n",
    "        tag_dict[\"id\"] = tag_id\n",
    "        tag_dict[\"type\"] = tag_type\n",
    "        tag_dict[\"start\"] = tag_start\n",
    "        tag_dict[\"end\"] = tag_end\n",
    "        tag_dict[\"text\"] = tag_text\n",
    "        tag_dict[\"comment\"] = tag_comment\n",
    "        parsed_tags.append(tag_dict)\n",
    "\n",
    "    record = OrderedDict()\n",
    "    record[\"id\"] = id_record\n",
    "    record[\"text\"] = text\n",
    "    record[\"tags\"] = parsed_tags\n",
    "\n",
    "    return record"
   ]
  },
  {
   "cell_type": "code",
   "execution_count": 43,
   "metadata": {},
   "outputs": [],
   "source": [
    "train1_gold_path = src_path / \"training-PHI-Gold-Set1\"\n",
    "train1_gold_files = train1_gold_path.glob(\"*.xml\")\n",
    "\n",
    "train_set1 = []\n",
    "\n",
    "for file in train1_gold_files: \n",
    "    train_set1.append(get_train_record_from_xml(file))\n",
    "    "
   ]
  },
  {
   "cell_type": "code",
   "execution_count": 44,
   "metadata": {},
   "outputs": [],
   "source": [
    "train2_gold_path = src_path / \"training-PHI-Gold-Set2\"\n",
    "train2_gold_files = train2_gold_path.glob(\"*.xml\")\n",
    "\n",
    "train_set2 = []\n",
    "\n",
    "for file in train2_gold_files: \n",
    "    train_set2.append(get_train_record_from_xml(file))"
   ]
  },
  {
   "cell_type": "code",
   "execution_count": 45,
   "metadata": {},
   "outputs": [],
   "source": [
    "test_gold_path = src_path / \"testing-PHI-Gold-fixed\"\n",
    "test_gold_files = test_gold_path.glob(\"*.xml\")\n",
    "\n",
    "test_gold = []\n",
    "\n",
    "for file in test_gold_files: \n",
    "    test_gold.append(get_train_record_from_xml(file))"
   ]
  },
  {
   "cell_type": "code",
   "execution_count": 19,
   "metadata": {},
   "outputs": [],
   "source": []
  },
  {
   "cell_type": "code",
   "execution_count": 46,
   "metadata": {},
   "outputs": [],
   "source": [
    "train_set_1 = Dataset.from_list(train_set1)\n",
    "train_set_2 = Dataset.from_list(train_set2)\n",
    "test_set = Dataset.from_list(test_gold)\n",
    "\n",
    "dataset = DatasetDict({\"train1\": train_set_1, \"train2\": train_set_2, \"test\": test_set})\n"
   ]
  },
  {
   "cell_type": "code",
   "execution_count": null,
   "metadata": {},
   "outputs": [],
   "source": []
  },
  {
   "cell_type": "code",
   "execution_count": 47,
   "metadata": {},
   "outputs": [
    {
     "data": {
      "application/json": {
       "ascii": false,
       "bar_format": null,
       "colour": null,
       "elapsed": 0.006290435791015625,
       "initial": 0,
       "n": 0,
       "ncols": null,
       "nrows": null,
       "postfix": null,
       "prefix": "Saving the dataset (0/1 shards)",
       "rate": null,
       "total": 521,
       "unit": " examples",
       "unit_divisor": 1000,
       "unit_scale": false
      },
      "application/vnd.jupyter.widget-view+json": {
       "model_id": "f54a729ebbe54657ad91b61234fbd81b",
       "version_major": 2,
       "version_minor": 0
      },
      "text/plain": [
       "Saving the dataset (0/1 shards):   0%|          | 0/521 [00:00<?, ? examples/s]"
      ]
     },
     "metadata": {},
     "output_type": "display_data"
    },
    {
     "data": {
      "application/json": {
       "ascii": false,
       "bar_format": null,
       "colour": null,
       "elapsed": 0.011543035507202148,
       "initial": 0,
       "n": 0,
       "ncols": null,
       "nrows": null,
       "postfix": null,
       "prefix": "Saving the dataset (0/1 shards)",
       "rate": null,
       "total": 269,
       "unit": " examples",
       "unit_divisor": 1000,
       "unit_scale": false
      },
      "application/vnd.jupyter.widget-view+json": {
       "model_id": "62b048e9270d4392bfe8114d7e738f43",
       "version_major": 2,
       "version_minor": 0
      },
      "text/plain": [
       "Saving the dataset (0/1 shards):   0%|          | 0/269 [00:00<?, ? examples/s]"
      ]
     },
     "metadata": {},
     "output_type": "display_data"
    },
    {
     "data": {
      "application/json": {
       "ascii": false,
       "bar_format": null,
       "colour": null,
       "elapsed": 0.005637645721435547,
       "initial": 0,
       "n": 0,
       "ncols": null,
       "nrows": null,
       "postfix": null,
       "prefix": "Saving the dataset (0/1 shards)",
       "rate": null,
       "total": 514,
       "unit": " examples",
       "unit_divisor": 1000,
       "unit_scale": false
      },
      "application/vnd.jupyter.widget-view+json": {
       "model_id": "73299e24a24b42889b0965f5e9dc1f6e",
       "version_major": 2,
       "version_minor": 0
      },
      "text/plain": [
       "Saving the dataset (0/1 shards):   0%|          | 0/514 [00:00<?, ? examples/s]"
      ]
     },
     "metadata": {},
     "output_type": "display_data"
    }
   ],
   "source": [
    "dataset.save_to_disk(tar_path)"
   ]
  },
  {
   "cell_type": "code",
   "execution_count": 34,
   "metadata": {},
   "outputs": [],
   "source": [
    "dataset = load_from_disk(\"/work/frink/private_datasets/n2c2/phi-de-identification-2014\")"
   ]
  },
  {
   "cell_type": "code",
   "execution_count": 39,
   "metadata": {},
   "outputs": [
    {
     "data": {
      "text/plain": [
       "[{'comment': '',\n",
       "  'end': '26',\n",
       "  'id': 'P0',\n",
       "  'start': '16',\n",
       "  'text': '2067-05-03',\n",
       "  'type': 'DATE'},\n",
       " {'comment': '',\n",
       "  'end': '52',\n",
       "  'id': 'P1',\n",
       "  'start': '50',\n",
       "  'text': '55',\n",
       "  'type': 'AGE'},\n",
       " {'comment': '',\n",
       "  'end': '296',\n",
       "  'id': 'P2',\n",
       "  'start': '290',\n",
       "  'text': 'Oakley',\n",
       "  'type': 'DOCTOR'},\n",
       " {'comment': '',\n",
       "  'end': '303',\n",
       "  'id': 'P3',\n",
       "  'start': '297',\n",
       "  'text': '4/5/67',\n",
       "  'type': 'DATE'},\n",
       " {'comment': '',\n",
       "  'end': '353',\n",
       "  'id': 'P4',\n",
       "  'start': '343',\n",
       "  'text': 'Clarkfield',\n",
       "  'type': 'HOSPITAL'},\n",
       " {'comment': '',\n",
       "  'end': '367',\n",
       "  'id': 'P5',\n",
       "  'start': '363',\n",
       "  'text': '7/67',\n",
       "  'type': 'DATE'},\n",
       " {'comment': '',\n",
       "  'end': '639',\n",
       "  'id': 'P6',\n",
       "  'start': '637',\n",
       "  'text': '37',\n",
       "  'type': 'AGE'},\n",
       " {'comment': '',\n",
       "  'end': '696',\n",
       "  'id': 'P7',\n",
       "  'start': '694',\n",
       "  'text': '66',\n",
       "  'type': 'AGE'},\n",
       " {'comment': '',\n",
       "  'end': '759',\n",
       "  'id': 'P8',\n",
       "  'start': '755',\n",
       "  'text': '2062',\n",
       "  'type': 'DATE'},\n",
       " {'comment': '',\n",
       "  'end': '903',\n",
       "  'id': 'P9',\n",
       "  'start': '899',\n",
       "  'text': '4/63',\n",
       "  'type': 'DATE'},\n",
       " {'comment': '',\n",
       "  'end': '944',\n",
       "  'id': 'P10',\n",
       "  'start': '940',\n",
       "  'text': '2065',\n",
       "  'type': 'DATE'},\n",
       " {'comment': '',\n",
       "  'end': '1032',\n",
       "  'id': 'P11',\n",
       "  'start': '1028',\n",
       "  'text': '2/67',\n",
       "  'type': 'DATE'},\n",
       " {'comment': '',\n",
       "  'end': '1043',\n",
       "  'id': 'P12',\n",
       "  'start': '1037',\n",
       "  'text': 'Oakley',\n",
       "  'type': 'DOCTOR'},\n",
       " {'comment': '',\n",
       "  'end': '1075',\n",
       "  'id': 'P13',\n",
       "  'start': '1071',\n",
       "  'text': '2065',\n",
       "  'type': 'DATE'},\n",
       " {'comment': '',\n",
       "  'end': '1980',\n",
       "  'id': 'P14',\n",
       "  'start': '1974',\n",
       "  'text': 'Oakley',\n",
       "  'type': 'DOCTOR'},\n",
       " {'comment': '',\n",
       "  'end': '2288',\n",
       "  'id': 'P15',\n",
       "  'start': '2284',\n",
       "  'text': '3/67',\n",
       "  'type': 'DATE'}]"
      ]
     },
     "execution_count": 39,
     "metadata": {},
     "output_type": "execute_result"
    }
   ],
   "source": [
    "dataset[\"train1\"][0][\"tags\"]"
   ]
  },
  {
   "cell_type": "code",
   "execution_count": 9,
   "metadata": {},
   "outputs": [
    {
     "name": "stdout",
     "output_type": "stream",
     "text": [
      "<Element 'TEXT' at 0x7f9ac2ded810>\n",
      "<Element 'TAGS' at 0x7f9ac2deda40>\n"
     ]
    }
   ],
   "source": [
    "for doc in root:\n",
    "    print(doc)"
   ]
  },
  {
   "cell_type": "code",
   "execution_count": 6,
   "metadata": {},
   "outputs": [
    {
     "data": {
      "text/plain": [
       "<generator object Path.glob at 0x7f48386e1a50>"
      ]
     },
     "execution_count": 6,
     "metadata": {},
     "output_type": "execute_result"
    }
   ],
   "source": [
    "train1_gold_files"
   ]
  },
  {
   "cell_type": "code",
   "execution_count": null,
   "metadata": {},
   "outputs": [],
   "source": []
  }
 ],
 "metadata": {
  "kernelspec": {
   "display_name": "nlp",
   "language": "python",
   "name": "python3"
  },
  "language_info": {
   "codemirror_mode": {
    "name": "ipython",
    "version": 3
   },
   "file_extension": ".py",
   "mimetype": "text/x-python",
   "name": "python",
   "nbconvert_exporter": "python",
   "pygments_lexer": "ipython3",
   "version": "3.9.12"
  },
  "orig_nbformat": 4
 },
 "nbformat": 4,
 "nbformat_minor": 2
}
