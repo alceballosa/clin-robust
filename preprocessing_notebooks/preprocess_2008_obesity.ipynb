{
 "cells": [
  {
   "cell_type": "code",
   "execution_count": 1,
   "metadata": {},
   "outputs": [
    {
     "name": "stderr",
     "output_type": "stream",
     "text": [
      "/work/frink/sun.jiu/miniconda3/envs/nlp/lib/python3.10/site-packages/tqdm/auto.py:21: TqdmWarning: IProgress not found. Please update jupyter and ipywidgets. See https://ipywidgets.readthedocs.io/en/stable/user_install.html\n",
      "  from .autonotebook import tqdm as notebook_tqdm\n"
     ]
    }
   ],
   "source": [
    "from datasets import Dataset, DatasetDict\n",
    "import xml.etree.ElementTree as ET\n",
    "import os\n",
    "import re\n",
    "from utils import preprocess_xml_illegal_chars"
   ]
  },
  {
   "cell_type": "markdown",
   "metadata": {},
   "source": [
    "### Specify Src and Tar Dir\n",
    "\n",
    "Note: make sure the following files:\n",
    "- obesity_test_annotation.xml\n",
    "- obesity_test_record.xml\n",
    "- obesity_training_2_annotation.xml\n",
    "- obesity_training_2.xml\n",
    "- obesity_training_annotation.xml\n",
    "- obesity_training.xml\n",
    "\n",
    "are saved to the src dir"
   ]
  },
  {
   "cell_type": "code",
   "execution_count": 2,
   "metadata": {},
   "outputs": [],
   "source": [
    "src_path = \"../datasets/n2c2_raw/2008/obesity/\"\n",
    "tar_path = \"../datasets/n2c2/obesity-classification-2008\""
   ]
  },
  {
   "cell_type": "markdown",
   "metadata": {},
   "source": [
    "### Data Cleaning\n",
    "\n",
    "The record files directly downloaded from N2C2 contains illegal characters for XML formats. Replace those with escaped characters."
   ]
  },
  {
   "cell_type": "code",
   "execution_count": 4,
   "metadata": {},
   "outputs": [],
   "source": [
    "train_record_file = os.path.join(src_path, \"obesity_training.xml\")\n",
    "train2_record_file = os.path.join(src_path, \"obesity_training_2.xml\")\n",
    "test_record_file = os.path.join(src_path, \"obesity_test_record.xml\")\n",
    "\n",
    "for file in [train_record_file, train2_record_file, test_record_file]:\n",
    "    assert os.path.exists(file), f\"File {file} doesn't exist!\"\n",
    "    patterns = [\n",
    "        r\"\\<doc id\\=\\\"\\d+\\\"\\>\", \n",
    "        r\"\\</doc[s]?\\>\", \n",
    "        r\"\\<text\\>\", \n",
    "        r\"\\<\\/text\\>\", \n",
    "        r\"\\<root\\>\", \n",
    "        r\"\\<\\/root\\>\", \n",
    "        r\"\\<doc[s]?\\>\"\n",
    "    ]\n",
    "    preprocess_xml_illegal_chars(file, escaped_patterns=patterns)"
   ]
  },
  {
   "cell_type": "markdown",
   "metadata": {},
   "source": [
    "### Run"
   ]
  },
  {
   "cell_type": "code",
   "execution_count": 27,
   "metadata": {},
   "outputs": [],
   "source": [
    "train_record_file = os.path.join(src_path, \"obesity_training.xml\")\n",
    "train_annotation_file = os.path.join(src_path, \"obesity_training_annotation.xml\")\n",
    "\n",
    "train2_record_file = os.path.join(src_path, \"obesity_training_2.xml\")\n",
    "train2_annotation_file = os.path.join(src_path, \"obesity_training_2_annotation.xml\")\n",
    "\n",
    "train1_set, train2_set = [], []\n",
    "\n",
    "train_tree = ET.parse(train_record_file)\n",
    "train_root = train_tree.getroot()\n",
    "\n",
    "for docs in train_root:\n",
    "    for doc in docs:\n",
    "        doc_id = doc.attrib[\"id\"]\n",
    "        for text in doc:\n",
    "            doc_text = text.text\n",
    "            train1_set.append({\"id\": doc_id, \"text\": doc_text})\n",
    "\n",
    "train_annotation_tree = ET.parse(train_annotation_file)\n",
    "train_annotation_root = train_annotation_tree.getroot()\n",
    "\n",
    "for diseaseset in train_annotation_root:\n",
    "    judgment_type = diseaseset.attrib[\"source\"]\n",
    "    for disease in diseaseset:\n",
    "        disease_name = disease.attrib[\"name\"]\n",
    "        for doc in disease:\n",
    "            doc_id = doc.attrib[\"id\"]\n",
    "            doc_jugdment = doc.attrib[\"judgment\"]\n",
    "            for i in range(len(train1_set)):\n",
    "                if train1_set[i][\"id\"] == doc_id:\n",
    "                    feature_name = f\"{disease_name}_{judgment_type}\"\n",
    "                    assert feature_name not in train1_set[i].keys(), f\"Feature {feature_name} already exists!\"\n",
    "                    train1_set[i][feature_name] = doc_jugdment\n",
    "\n",
    "train2_tree = ET.parse(train2_record_file)\n",
    "train2_root = train2_tree.getroot()\n",
    "\n",
    "for docs in train2_root:\n",
    "    for doc in docs:\n",
    "        doc_id = doc.attrib[\"id\"]\n",
    "        for text in doc:\n",
    "            doc_text = text.text\n",
    "            train2_set.append({\"id\": doc_id, \"text\": doc_text})\n",
    "    \n",
    "train2_annotation_tree = ET.parse(train2_annotation_file)\n",
    "train2_annotation_root = train2_annotation_tree.getroot()\n",
    "\n",
    "for diseaseset in train2_annotation_root:\n",
    "    judgment_type = diseaseset.attrib[\"source\"]\n",
    "    for disease in diseaseset:\n",
    "        disease_name = disease.attrib[\"name\"]\n",
    "        for doc in disease:\n",
    "            doc_id = doc.attrib[\"id\"]\n",
    "            doc_jugdment = doc.attrib[\"judgment\"]\n",
    "            for i in range(len(train2_set)):\n",
    "                if train2_set[i][\"id\"] == doc_id:\n",
    "                    feature_name = f\"{disease_name}_{judgment_type}\"\n",
    "                    assert feature_name not in train2_set[i].keys(), f\"Feature {feature_name} already exists!\"\n",
    "                    train2_set[i][feature_name] = doc_jugdment\n",
    "\n",
    "train_set = train1_set + train2_set"
   ]
  },
  {
   "cell_type": "code",
   "execution_count": 28,
   "metadata": {},
   "outputs": [],
   "source": [
    "test_record_file = os.path.join(src_path, \"obesity_test_record.xml\")\n",
    "test_annotation_file = os.path.join(src_path, \"obesity_test_annotation.xml\")\n",
    "\n",
    "test_set = []\n",
    "\n",
    "test_tree = ET.parse(test_record_file)\n",
    "test_root = test_tree.getroot()\n",
    "\n",
    "for docs in test_root:\n",
    "    for doc in docs:\n",
    "        doc_id = doc.attrib[\"id\"]\n",
    "        for text in doc:\n",
    "            doc_text = text.text\n",
    "            test_set.append({\"id\": doc_id, \"text\": doc_text})\n",
    "    \n",
    "test_annotation_tree = ET.parse(test_annotation_file)\n",
    "test_annotation_root = test_annotation_tree.getroot()\n",
    "\n",
    "for diseaseset in test_annotation_root:\n",
    "    judgment_type = diseaseset.attrib[\"source\"]\n",
    "    for disease in diseaseset:\n",
    "        disease_name = disease.attrib[\"name\"]\n",
    "        for doc in disease:\n",
    "            doc_id = doc.attrib[\"id\"]\n",
    "            doc_jugdment = doc.attrib[\"judgment\"]\n",
    "            for i in range(len(test_set)):\n",
    "                if test_set[i][\"id\"] == doc_id:\n",
    "                    feature_name = f\"{disease_name}_{judgment_type}\"\n",
    "                    assert feature_name not in test_set[i].keys(), f\"Feature {feature_name} already exists!\"\n",
    "                    test_set[i][feature_name] = doc_jugdment"
   ]
  },
  {
   "cell_type": "code",
   "execution_count": 35,
   "metadata": {},
   "outputs": [
    {
     "name": "stderr",
     "output_type": "stream",
     "text": [
      "                                                                                            \r"
     ]
    }
   ],
   "source": [
    "train_set = Dataset.from_list(train_set)\n",
    "test_set = Dataset.from_list(test_set)\n",
    "\n",
    "dataset = DatasetDict({\"train\": train_set, \"test\": test_set})\n",
    "\n",
    "if not os.path.exists(tar_path):\n",
    "    os.makedirs(tar_path)\n",
    "dataset.save_to_disk(tar_path)"
   ]
  }
 ],
 "metadata": {
  "kernelspec": {
   "display_name": "Python 3",
   "language": "python",
   "name": "python3"
  },
  "language_info": {
   "codemirror_mode": {
    "name": "ipython",
    "version": 3
   },
   "file_extension": ".py",
   "mimetype": "text/x-python",
   "name": "python",
   "nbconvert_exporter": "python",
   "pygments_lexer": "ipython3",
   "version": "3.6.8"
  },
  "orig_nbformat": 4,
  "vscode": {
   "interpreter": {
    "hash": "31f2aee4e71d21fbe5cf8b01ff0e069b9275f58929596ceb00d14d90e3e16cd6"
   }
  }
 },
 "nbformat": 4,
 "nbformat_minor": 2
}
