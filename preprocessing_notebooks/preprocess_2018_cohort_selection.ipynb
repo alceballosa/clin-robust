{
 "cells": [
  {
   "cell_type": "code",
   "execution_count": 1,
   "metadata": {},
   "outputs": [],
   "source": [
    "from datasets import Dataset, DatasetDict\n",
    "import xml.etree.ElementTree as ET\n",
    "import os\n",
    "import re\n",
    "from utils import preprocess_xml_illegal_chars\n",
    "from pathlib import Path\n",
    "from datasets import load_dataset, load_from_disk\n",
    "from collections import OrderedDict\n",
    "import pandas as pd"
   ]
  },
  {
   "cell_type": "markdown",
   "metadata": {},
   "source": []
  },
  {
   "cell_type": "code",
   "execution_count": 2,
   "metadata": {},
   "outputs": [],
   "source": [
    "src_path = Path(\"../datasets/n2c2_raw/2018/Cohort Selection\")\n",
    "tar_path = Path(\"../datasets/n2c2/cohort-selection-2018\")"
   ]
  },
  {
   "cell_type": "code",
   "execution_count": 8,
   "metadata": {},
   "outputs": [],
   "source": [
    "def get_train_record_from_xml(path: Path):\n",
    "    tree = ET.parse(path)\n",
    "    root = tree.getroot()\n",
    "    id_record = path.stem\n",
    "    text = root.find(\"TEXT\").text\n",
    "    tag_elems = root.find(\"TAGS\")\n",
    "    record = OrderedDict()\n",
    "    record[\"id\"] = id_record\n",
    "    record[\"text\"] = text\n",
    "    #record[\"tags\"] = parsed_tags\n",
    "    for tag_elem in tag_elems:\n",
    "        record[tag_elem.tag] = tag_elem.attrib[\"met\"]\n",
    "    return record"
   ]
  },
  {
   "cell_type": "code",
   "execution_count": 9,
   "metadata": {},
   "outputs": [],
   "source": [
    "train1_gold_path = src_path / \"train\"\n",
    "train1_gold_files = train1_gold_path.glob(\"*.xml\")\n",
    "\n",
    "train_set1 = []\n",
    "\n",
    "for file in train1_gold_files: \n",
    "    train_set1.append(get_train_record_from_xml(file))"
   ]
  },
  {
   "cell_type": "code",
   "execution_count": 11,
   "metadata": {},
   "outputs": [],
   "source": [
    "test_gold_path = src_path / \"n2c2-t1_gold_standard_test_data/test\"\n",
    "test_gold_files = test_gold_path.glob(\"*.xml\")\n",
    "\n",
    "test_gold = []\n",
    "\n",
    "for file in test_gold_files: \n",
    "    test_gold.append(get_train_record_from_xml(file))"
   ]
  },
  {
   "cell_type": "code",
   "execution_count": 19,
   "metadata": {},
   "outputs": [],
   "source": []
  },
  {
   "cell_type": "code",
   "execution_count": 12,
   "metadata": {},
   "outputs": [],
   "source": [
    "train_set_1 = Dataset.from_list(train_set1)\n",
    "test_set = Dataset.from_list(test_gold)\n",
    "\n",
    "dataset = DatasetDict({\"train\": train_set_1, \"test\": test_set})\n"
   ]
  },
  {
   "cell_type": "code",
   "execution_count": null,
   "metadata": {},
   "outputs": [],
   "source": []
  },
  {
   "cell_type": "code",
   "execution_count": 13,
   "metadata": {},
   "outputs": [
    {
     "data": {
      "application/json": {
       "ascii": false,
       "bar_format": null,
       "colour": null,
       "elapsed": 0.005728721618652344,
       "initial": 0,
       "n": 0,
       "ncols": null,
       "nrows": null,
       "postfix": null,
       "prefix": "Saving the dataset (0/1 shards)",
       "rate": null,
       "total": 202,
       "unit": " examples",
       "unit_divisor": 1000,
       "unit_scale": false
      },
      "application/vnd.jupyter.widget-view+json": {
       "model_id": "1219ab21d8e84579bf186b7d95e082df",
       "version_major": 2,
       "version_minor": 0
      },
      "text/plain": [
       "Saving the dataset (0/1 shards):   0%|          | 0/202 [00:00<?, ? examples/s]"
      ]
     },
     "metadata": {},
     "output_type": "display_data"
    },
    {
     "data": {
      "application/json": {
       "ascii": false,
       "bar_format": null,
       "colour": null,
       "elapsed": 0.005475044250488281,
       "initial": 0,
       "n": 0,
       "ncols": null,
       "nrows": null,
       "postfix": null,
       "prefix": "Saving the dataset (0/1 shards)",
       "rate": null,
       "total": 86,
       "unit": " examples",
       "unit_divisor": 1000,
       "unit_scale": false
      },
      "application/vnd.jupyter.widget-view+json": {
       "model_id": "a77c432f3e844d80bf4483ffba20cf72",
       "version_major": 2,
       "version_minor": 0
      },
      "text/plain": [
       "Saving the dataset (0/1 shards):   0%|          | 0/86 [00:00<?, ? examples/s]"
      ]
     },
     "metadata": {},
     "output_type": "display_data"
    }
   ],
   "source": [
    "dataset.save_to_disk(tar_path)"
   ]
  },
  {
   "cell_type": "code",
   "execution_count": 3,
   "metadata": {},
   "outputs": [],
   "source": [
    "dataset = load_from_disk(\"/work/frink/private_datasets/n2c2/cohort-selection-2018\")"
   ]
  },
  {
   "cell_type": "code",
   "execution_count": 1,
   "metadata": {},
   "outputs": [
    {
     "ename": "NameError",
     "evalue": "name 'dataset' is not defined",
     "output_type": "error",
     "traceback": [
      "\u001b[0;31m---------------------------------------------------------------------------\u001b[0m",
      "\u001b[0;31mNameError\u001b[0m                                 Traceback (most recent call last)",
      "\u001b[1;32m/work/frink/private_datasets/n2c2/notebooks/preprocess_2018_cohort_selection.ipynb Cell 12\u001b[0m line \u001b[0;36m1\n\u001b[0;32m----> <a href='vscode-notebook-cell://ssh-remote%2B7b22686f73744e616d65223a224e45555f4e6f6465227d/work/frink/private_datasets/n2c2/notebooks/preprocess_2018_cohort_selection.ipynb#X14sdnNjb2RlLXJlbW90ZQ%3D%3D?line=0'>1</a>\u001b[0m \u001b[39mlen\u001b[39m(dataset[\u001b[39m\"\u001b[39m\u001b[39mtest\u001b[39m\u001b[39m\"\u001b[39m])\n",
      "\u001b[0;31mNameError\u001b[0m: name 'dataset' is not defined"
     ]
    }
   ],
   "source": [
    "len(dataset[\"test\"])"
   ]
  },
  {
   "cell_type": "code",
   "execution_count": null,
   "metadata": {},
   "outputs": [],
   "source": []
  }
 ],
 "metadata": {
  "kernelspec": {
   "display_name": "nlp",
   "language": "python",
   "name": "python3"
  },
  "language_info": {
   "codemirror_mode": {
    "name": "ipython",
    "version": 3
   },
   "file_extension": ".py",
   "mimetype": "text/x-python",
   "name": "python",
   "nbconvert_exporter": "python",
   "pygments_lexer": "ipython3",
   "version": "3.9.12"
  },
  "orig_nbformat": 4
 },
 "nbformat": 4,
 "nbformat_minor": 2
}
